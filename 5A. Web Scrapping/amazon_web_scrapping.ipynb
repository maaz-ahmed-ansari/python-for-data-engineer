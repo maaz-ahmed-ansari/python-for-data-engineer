{
 "cells": [
  {
   "cell_type": "code",
   "execution_count": 4,
   "id": "8633eb51-881c-4f79-a5e5-c1e98b1f7971",
   "metadata": {},
   "outputs": [],
   "source": [
    "import requests\n",
    "import pandas as pd\n",
    "\n",
    "from bs4 import BeautifulSoup"
   ]
  },
  {
   "cell_type": "code",
   "execution_count": 12,
   "id": "9721e5ec-6c45-4d93-ae76-904ba92c9009",
   "metadata": {},
   "outputs": [],
   "source": [
    "URL = \"https://www.amazon.com/s?k=playstation+5&crid=OVG8FV2GQ45S&sprefix=play%2Caps%2C411&ref=nb_sb_ss_pltr-sample-20_1_4\""
   ]
  },
  {
   "cell_type": "code",
   "execution_count": 13,
   "id": "e7d85b46-3825-4b8a-ae6b-bba021a2cb00",
   "metadata": {},
   "outputs": [],
   "source": [
    "# Headers for request\n",
    "HEADERS = ({'User-Agent':'Mozilla/5.0 (Windows NT 10.0; Win64; x64) AppleWebKit/537.36 (KHTML, like Gecko) Chrome/128.0.0.0 Safari/537.36', 'Accept-Language': 'en-US, en;q=0.5'}) #add your user agent "
   ]
  },
  {
   "cell_type": "code",
   "execution_count": 14,
   "id": "5f5ead9b-b294-408d-a8d8-9b52631412e5",
   "metadata": {},
   "outputs": [],
   "source": [
    "# HTTP Request\n",
    "webpage = requests.get(URL, headers=HEADERS)"
   ]
  },
  {
   "cell_type": "code",
   "execution_count": 15,
   "id": "0d4a8367-21a6-48d6-992c-898281d5944a",
   "metadata": {},
   "outputs": [
    {
     "data": {
      "text/plain": [
       "<Response [200]>"
      ]
     },
     "execution_count": 15,
     "metadata": {},
     "output_type": "execute_result"
    }
   ],
   "source": [
    "webpage"
   ]
  },
  {
   "cell_type": "code",
   "execution_count": 16,
   "id": "a71bd477-ce7a-4dba-9ccc-aa89392707aa",
   "metadata": {},
   "outputs": [
    {
     "data": {
      "text/plain": [
       "bytes"
      ]
     },
     "execution_count": 16,
     "metadata": {},
     "output_type": "execute_result"
    }
   ],
   "source": [
    "type(webpage.content)"
   ]
  },
  {
   "cell_type": "code",
   "execution_count": 17,
   "id": "190b0532-d9cb-4eca-a320-fa461a8572f5",
   "metadata": {},
   "outputs": [],
   "source": [
    "# Soup Object containiang all data\n",
    "soup = BeautifulSoup(webpage.content, \"html.parser\")"
   ]
  },
  {
   "cell_type": "code",
   "execution_count": 20,
   "id": "c24d5972-8f43-4423-8ab5-0c93e14c5ee6",
   "metadata": {},
   "outputs": [],
   "source": [
    "# Fetch links as List of Tag Objects\n",
    "links = soup.find_all(\"a\", attrs={'class':'a-link-normal s-underline-text s-underline-link-text s-link-style a-text-normal'})"
   ]
  },
  {
   "cell_type": "code",
   "execution_count": 21,
   "id": "f3af6687-e6a2-46b3-be8c-a9f929872f40",
   "metadata": {},
   "outputs": [
    {
     "data": {
      "text/plain": [
       "[<a class=\"a-link-normal s-underline-text s-underline-link-text s-link-style a-text-normal\" href=\"/PlayStation%C2%AE5-console-slim-SPORTS-College-Football/dp/B0D9JLP9N8/ref=sr_1_1?crid=OVG8FV2GQ45S&amp;dib=eyJ2IjoiMSJ9.8d7qTXJ3Plr94uTfOIz-FfoX2_7jUpYhfvNxHBCjGlqPI4zvzHF93R9JM-0w6rCKx0brbai2XQTUj4cKarjSZMyS4xIjv68LhCcMm0h-eSu2bRpoSqpJmDjgg5axfiYFYcBKmTAAJSbVylkZi1TIzNAMbiEHQ8DRZMXbHTKoZPZZSWWJq03G_OwvE0VwclMhL3fIKkxMfEqSPFRSDGYhEjfVCBay8Kw-72mXTTo5jJo.4HiSEt1-9Mu95zMfRfPpHKTXtLdIcsmbs2BmIvYNjuc&amp;dib_tag=se&amp;keywords=playstation+5&amp;qid=1725285712&amp;sprefix=play%2Caps%2C411&amp;sr=8-1\"><span class=\"a-size-medium a-color-base a-text-normal\">PlayStation®5 console (slim) with EA SPORTS College Football 25</span> </a>,\n",
       " <a class=\"a-link-normal s-underline-text s-underline-link-text s-link-style a-text-normal\" href=\"/PlayStation-5-Digital/dp/B09DFHJTF5/ref=sr_1_2?crid=OVG8FV2GQ45S&amp;dib=eyJ2IjoiMSJ9.8d7qTXJ3Plr94uTfOIz-FfoX2_7jUpYhfvNxHBCjGlqPI4zvzHF93R9JM-0w6rCKx0brbai2XQTUj4cKarjSZMyS4xIjv68LhCcMm0h-eSu2bRpoSqpJmDjgg5axfiYFYcBKmTAAJSbVylkZi1TIzNAMbiEHQ8DRZMXbHTKoZPZZSWWJq03G_OwvE0VwclMhL3fIKkxMfEqSPFRSDGYhEjfVCBay8Kw-72mXTTo5jJo.4HiSEt1-9Mu95zMfRfPpHKTXtLdIcsmbs2BmIvYNjuc&amp;dib_tag=se&amp;keywords=playstation+5&amp;qid=1725285712&amp;sprefix=play%2Caps%2C411&amp;sr=8-2\"><span class=\"a-size-medium a-color-base a-text-normal\">PlayStation 5 Digital Edition - CFI-1102B</span> </a>,\n",
       " <a class=\"a-link-normal s-underline-text s-underline-link-text s-link-style a-text-normal\" href=\"/PlayStation-Store-Gift-Card-Digital/dp/B0CXBLK3WW/ref=sr_1_3?crid=OVG8FV2GQ45S&amp;dib=eyJ2IjoiMSJ9.8d7qTXJ3Plr94uTfOIz-FfoX2_7jUpYhfvNxHBCjGlqPI4zvzHF93R9JM-0w6rCKx0brbai2XQTUj4cKarjSZMyS4xIjv68LhCcMm0h-eSu2bRpoSqpJmDjgg5axfiYFYcBKmTAAJSbVylkZi1TIzNAMbiEHQ8DRZMXbHTKoZPZZSWWJq03G_OwvE0VwclMhL3fIKkxMfEqSPFRSDGYhEjfVCBay8Kw-72mXTTo5jJo.4HiSEt1-9Mu95zMfRfPpHKTXtLdIcsmbs2BmIvYNjuc&amp;dib_tag=se&amp;keywords=playstation+5&amp;qid=1725285712&amp;sprefix=play%2Caps%2C411&amp;sr=8-3\"><span class=\"a-size-medium a-color-base a-text-normal\">$150 PlayStation Store Gift Card [Digital Code]</span> </a>,\n",
       " <a class=\"a-link-normal s-underline-text s-underline-link-text s-link-style a-text-normal\" href=\"/Western-Digital-Officially-Licensed-Expansion/dp/B0C47ZX1WB/ref=sr_1_4?crid=OVG8FV2GQ45S&amp;dib=eyJ2IjoiMSJ9.8d7qTXJ3Plr94uTfOIz-FfoX2_7jUpYhfvNxHBCjGlqPI4zvzHF93R9JM-0w6rCKx0brbai2XQTUj4cKarjSZMyS4xIjv68LhCcMm0h-eSu2bRpoSqpJmDjgg5axfiYFYcBKmTAAJSbVylkZi1TIzNAMbiEHQ8DRZMXbHTKoZPZZSWWJq03G_OwvE0VwclMhL3fIKkxMfEqSPFRSDGYhEjfVCBay8Kw-72mXTTo5jJo.4HiSEt1-9Mu95zMfRfPpHKTXtLdIcsmbs2BmIvYNjuc&amp;dib_tag=se&amp;keywords=playstation+5&amp;qid=1725285712&amp;sprefix=play%2Caps%2C411&amp;sr=8-4\"><span class=\"a-size-medium a-color-base a-text-normal\">2TB SN850P NVMe M.2 SSD Officially Licensed Storage Expansion for PS5 Consoles, up to 7,300MB/s, with heatsink - WDBBYV0020BNC-WRSN</span> </a>,\n",
       " <a class=\"a-link-normal s-underline-text s-underline-link-text s-link-style a-text-normal\" href=\"/PlayStation-Store-Gift-Card-Digital/dp/B0CXB5MKHT/ref=sr_1_5?crid=OVG8FV2GQ45S&amp;dib=eyJ2IjoiMSJ9.8d7qTXJ3Plr94uTfOIz-FfoX2_7jUpYhfvNxHBCjGlqPI4zvzHF93R9JM-0w6rCKx0brbai2XQTUj4cKarjSZMyS4xIjv68LhCcMm0h-eSu2bRpoSqpJmDjgg5axfiYFYcBKmTAAJSbVylkZi1TIzNAMbiEHQ8DRZMXbHTKoZPZZSWWJq03G_OwvE0VwclMhL3fIKkxMfEqSPFRSDGYhEjfVCBay8Kw-72mXTTo5jJo.4HiSEt1-9Mu95zMfRfPpHKTXtLdIcsmbs2BmIvYNjuc&amp;dib_tag=se&amp;keywords=playstation+5&amp;qid=1725285712&amp;sprefix=play%2Caps%2C411&amp;sr=8-5\"><span class=\"a-size-medium a-color-base a-text-normal\">$250 PlayStation Store Gift Card [Digital Code]</span> </a>,\n",
       " <a class=\"a-link-normal s-underline-text s-underline-link-text s-link-style a-text-normal\" href=\"/PlayStation-DualSense-Edge-Wireless-Controller-5/dp/B0BSYFB99D/ref=sr_1_6?crid=OVG8FV2GQ45S&amp;dib=eyJ2IjoiMSJ9.8d7qTXJ3Plr94uTfOIz-FfoX2_7jUpYhfvNxHBCjGlqPI4zvzHF93R9JM-0w6rCKx0brbai2XQTUj4cKarjSZMyS4xIjv68LhCcMm0h-eSu2bRpoSqpJmDjgg5axfiYFYcBKmTAAJSbVylkZi1TIzNAMbiEHQ8DRZMXbHTKoZPZZSWWJq03G_OwvE0VwclMhL3fIKkxMfEqSPFRSDGYhEjfVCBay8Kw-72mXTTo5jJo.4HiSEt1-9Mu95zMfRfPpHKTXtLdIcsmbs2BmIvYNjuc&amp;dib_tag=se&amp;keywords=playstation+5&amp;qid=1725285712&amp;sprefix=play%2Caps%2C411&amp;sr=8-6\"><span class=\"a-size-medium a-color-base a-text-normal\">PlayStation DualSense Edge Wireless Controller</span> </a>,\n",
       " <a class=\"a-link-normal s-underline-text s-underline-link-text s-link-style a-text-normal\" href=\"/DualSense-Wireless-Controller-Playstation-Gaming-Console/dp/B0BF18JWMT/ref=sr_1_7?crid=OVG8FV2GQ45S&amp;dib=eyJ2IjoiMSJ9.8d7qTXJ3Plr94uTfOIz-FfoX2_7jUpYhfvNxHBCjGlqPI4zvzHF93R9JM-0w6rCKx0brbai2XQTUj4cKarjSZMyS4xIjv68LhCcMm0h-eSu2bRpoSqpJmDjgg5axfiYFYcBKmTAAJSbVylkZi1TIzNAMbiEHQ8DRZMXbHTKoZPZZSWWJq03G_OwvE0VwclMhL3fIKkxMfEqSPFRSDGYhEjfVCBay8Kw-72mXTTo5jJo.4HiSEt1-9Mu95zMfRfPpHKTXtLdIcsmbs2BmIvYNjuc&amp;dib_tag=se&amp;keywords=playstation+5&amp;qid=1725285712&amp;sprefix=play%2Caps%2C411&amp;sr=8-7\"><span class=\"a-size-medium a-color-base a-text-normal\">PlayStation DualSense Wireless Controller – Gray Camouflage</span> </a>,\n",
       " <a class=\"a-link-normal s-underline-text s-underline-link-text s-link-style a-text-normal\" href=\"/Cooling-Controller-Charging-PlayStation-Vertical/dp/B0CSSVM3GN/ref=sr_1_8?crid=OVG8FV2GQ45S&amp;dib=eyJ2IjoiMSJ9.8d7qTXJ3Plr94uTfOIz-FfoX2_7jUpYhfvNxHBCjGlqPI4zvzHF93R9JM-0w6rCKx0brbai2XQTUj4cKarjSZMyS4xIjv68LhCcMm0h-eSu2bRpoSqpJmDjgg5axfiYFYcBKmTAAJSbVylkZi1TIzNAMbiEHQ8DRZMXbHTKoZPZZSWWJq03G_OwvE0VwclMhL3fIKkxMfEqSPFRSDGYhEjfVCBay8Kw-72mXTTo5jJo.4HiSEt1-9Mu95zMfRfPpHKTXtLdIcsmbs2BmIvYNjuc&amp;dib_tag=se&amp;keywords=playstation+5&amp;qid=1725285712&amp;sprefix=play%2Caps%2C411&amp;sr=8-8\"><span class=\"a-size-medium a-color-base a-text-normal\">PS5 Slim Stand and Cooling Station with Dual Controller Charging Station for PlayStation 5 Slim Disc/Digital, Vertical Cooling Stand with 2 Headset Holder, 3 USB Hubs</span> </a>,\n",
       " <a class=\"a-link-normal s-underline-text s-underline-link-text s-link-style a-text-normal\" href=\"/EA-SPORTS-College-Football-25-PlayStation/dp/B0D3PBB78P/ref=sr_1_9?crid=OVG8FV2GQ45S&amp;dib=eyJ2IjoiMSJ9.8d7qTXJ3Plr94uTfOIz-FfoX2_7jUpYhfvNxHBCjGlqPI4zvzHF93R9JM-0w6rCKx0brbai2XQTUj4cKarjSZMyS4xIjv68LhCcMm0h-eSu2bRpoSqpJmDjgg5axfiYFYcBKmTAAJSbVylkZi1TIzNAMbiEHQ8DRZMXbHTKoZPZZSWWJq03G_OwvE0VwclMhL3fIKkxMfEqSPFRSDGYhEjfVCBay8Kw-72mXTTo5jJo.4HiSEt1-9Mu95zMfRfPpHKTXtLdIcsmbs2BmIvYNjuc&amp;dib_tag=se&amp;keywords=playstation+5&amp;qid=1725285712&amp;sprefix=play%2Caps%2C411&amp;sr=8-9\"><span class=\"a-size-medium a-color-base a-text-normal\">EA SPORTS College Football 25 - PlayStation 5</span> </a>,\n",
       " <a class=\"a-link-normal s-underline-text s-underline-link-text s-link-style a-text-normal\" href=\"/LZHYWEI-Compatible-PlayStation-Protective-Accessories/dp/B0CWP97M9K/ref=sr_1_10?crid=OVG8FV2GQ45S&amp;dib=eyJ2IjoiMSJ9.8d7qTXJ3Plr94uTfOIz-FfoX2_7jUpYhfvNxHBCjGlqPI4zvzHF93R9JM-0w6rCKx0brbai2XQTUj4cKarjSZMyS4xIjv68LhCcMm0h-eSu2bRpoSqpJmDjgg5axfiYFYcBKmTAAJSbVylkZi1TIzNAMbiEHQ8DRZMXbHTKoZPZZSWWJq03G_OwvE0VwclMhL3fIKkxMfEqSPFRSDGYhEjfVCBay8Kw-72mXTTo5jJo.4HiSEt1-9Mu95zMfRfPpHKTXtLdIcsmbs2BmIvYNjuc&amp;dib_tag=se&amp;keywords=playstation+5&amp;qid=1725285712&amp;sprefix=play%2Caps%2C411&amp;sr=8-10\"><span class=\"a-size-medium a-color-base a-text-normal\">Game Console Backpack Compatible with Sony PlayStation 5 Console, Protective Travel Carrying Case for PS5 with USB Port for Headset,Game Discs and Accessories</span> </a>,\n",
       " <a class=\"a-link-normal s-underline-text s-underline-link-text s-link-style a-text-normal\" href=\"/PlayStation-Store-Gift-Card-Digital/dp/B0CXB8RV7Q/ref=sr_1_11?crid=OVG8FV2GQ45S&amp;dib=eyJ2IjoiMSJ9.8d7qTXJ3Plr94uTfOIz-FfoX2_7jUpYhfvNxHBCjGlqPI4zvzHF93R9JM-0w6rCKx0brbai2XQTUj4cKarjSZMyS4xIjv68LhCcMm0h-eSu2bRpoSqpJmDjgg5axfiYFYcBKmTAAJSbVylkZi1TIzNAMbiEHQ8DRZMXbHTKoZPZZSWWJq03G_OwvE0VwclMhL3fIKkxMfEqSPFRSDGYhEjfVCBay8Kw-72mXTTo5jJo.4HiSEt1-9Mu95zMfRfPpHKTXtLdIcsmbs2BmIvYNjuc&amp;dib_tag=se&amp;keywords=playstation+5&amp;qid=1725285712&amp;sprefix=play%2Caps%2C411&amp;sr=8-11\"><span class=\"a-size-medium a-color-base a-text-normal\">$200 PlayStation Store Gift Card [Digital Code]</span> </a>,\n",
       " <a class=\"a-link-normal s-underline-text s-underline-link-text s-link-style a-text-normal\" href=\"/sspa/click?ie=UTF8&amp;spc=MTo2NzUxMTY1NzExOTY1ODIwOjE3MjUyODU3MTI6c3BfbXRmOjMwMDEyMjQzMDE4NDkwMjo6MDo6&amp;url=%2FController-Charging-Playstation-Vertical-Accessories%2Fdp%2FB0CP25NRGD%2Fref%3Dsr_1_12_sspa%3Fcrid%3DOVG8FV2GQ45S%26dib%3DeyJ2IjoiMSJ9.8d7qTXJ3Plr94uTfOIz-FfoX2_7jUpYhfvNxHBCjGlqPI4zvzHF93R9JM-0w6rCKx0brbai2XQTUj4cKarjSZMyS4xIjv68LhCcMm0h-eSu2bRpoSqpJmDjgg5axfiYFYcBKmTAAJSbVylkZi1TIzNAMbiEHQ8DRZMXbHTKoZPZZSWWJq03G_OwvE0VwclMhL3fIKkxMfEqSPFRSDGYhEjfVCBay8Kw-72mXTTo5jJo.4HiSEt1-9Mu95zMfRfPpHKTXtLdIcsmbs2BmIvYNjuc%26dib_tag%3Dse%26keywords%3Dplaystation%2B5%26qid%3D1725285712%26sprefix%3Dplay%252Caps%252C411%26sr%3D8-12-spons%26sp_csd%3Dd2lkZ2V0TmFtZT1zcF9tdGY%26psc%3D1\"><span class=\"a-size-medium a-color-base a-text-normal\">PS5 Slim Cooling Station with Dual Controller Charging Station for Playstation 5 Slim Console, Vertical Cooling Stand with Cooling Fan for PS5 Slim Accessories, Headset Holde and 6 Game Storage</span> </a>,\n",
       " <a class=\"a-link-normal s-underline-text s-underline-link-text s-link-style a-text-normal\" href=\"/Cooling-Controller-Charging-Playstation-Accessories/dp/B09QGK2LW3/ref=sr_1_13?crid=OVG8FV2GQ45S&amp;dib=eyJ2IjoiMSJ9.8d7qTXJ3Plr94uTfOIz-FfoX2_7jUpYhfvNxHBCjGlqPI4zvzHF93R9JM-0w6rCKx0brbai2XQTUj4cKarjSZMyS4xIjv68LhCcMm0h-eSu2bRpoSqpJmDjgg5axfiYFYcBKmTAAJSbVylkZi1TIzNAMbiEHQ8DRZMXbHTKoZPZZSWWJq03G_OwvE0VwclMhL3fIKkxMfEqSPFRSDGYhEjfVCBay8Kw-72mXTTo5jJo.4HiSEt1-9Mu95zMfRfPpHKTXtLdIcsmbs2BmIvYNjuc&amp;dib_tag=se&amp;keywords=playstation+5&amp;qid=1725285712&amp;sprefix=play%2Caps%2C411&amp;sr=8-13\"><span class=\"a-size-medium a-color-base a-text-normal\">PS5 / PS5 Slim Stand and Cooling Station with Dual Controller Charging Station for PlayStation 5 Console, PS5 Accessories Incl. Controller Charger, Cooling Fan, Headset Holder, 3 USB Hub, Screw-White</span> </a>,\n",
       " <a class=\"a-link-normal s-underline-text s-underline-link-text s-link-style a-text-normal\" href=\"/Controller-Compatible-Playstation-Accessories-Indicators-3/dp/B0CBM442RQ/ref=sr_1_14?crid=OVG8FV2GQ45S&amp;dib=eyJ2IjoiMSJ9.8d7qTXJ3Plr94uTfOIz-FfoX2_7jUpYhfvNxHBCjGlqPI4zvzHF93R9JM-0w6rCKx0brbai2XQTUj4cKarjSZMyS4xIjv68LhCcMm0h-eSu2bRpoSqpJmDjgg5axfiYFYcBKmTAAJSbVylkZi1TIzNAMbiEHQ8DRZMXbHTKoZPZZSWWJq03G_OwvE0VwclMhL3fIKkxMfEqSPFRSDGYhEjfVCBay8Kw-72mXTTo5jJo.4HiSEt1-9Mu95zMfRfPpHKTXtLdIcsmbs2BmIvYNjuc&amp;dib_tag=se&amp;keywords=playstation+5&amp;qid=1725285712&amp;sprefix=play%2Caps%2C411&amp;sr=8-14\"><span class=\"a-size-medium a-color-base a-text-normal\">PS5 Controller Charger Station Compatible with Playstation 5 Skin Edge &amp; Dual Controller, 9 RGB LED Light PS5 Accessories Charging Station, PS5 Charging Dock Stand with LED Indicators &amp; Charging Cable</span> </a>,\n",
       " <a class=\"a-link-normal s-underline-text s-underline-link-text s-link-style a-text-normal\" href=\"/3006410-PlayStation-DualSense-Wireless-Controller-Midnight/dp/B0951JZDWT/ref=sr_1_15?crid=OVG8FV2GQ45S&amp;dib=eyJ2IjoiMSJ9.8d7qTXJ3Plr94uTfOIz-FfoX2_7jUpYhfvNxHBCjGlqPI4zvzHF93R9JM-0w6rCKx0brbai2XQTUj4cKarjSZMyS4xIjv68LhCcMm0h-eSu2bRpoSqpJmDjgg5axfiYFYcBKmTAAJSbVylkZi1TIzNAMbiEHQ8DRZMXbHTKoZPZZSWWJq03G_OwvE0VwclMhL3fIKkxMfEqSPFRSDGYhEjfVCBay8Kw-72mXTTo5jJo.4HiSEt1-9Mu95zMfRfPpHKTXtLdIcsmbs2BmIvYNjuc&amp;dib_tag=se&amp;keywords=playstation+5&amp;qid=1725285712&amp;sprefix=play%2Caps%2C411&amp;sr=8-15\"><span class=\"a-size-medium a-color-base a-text-normal\">Sony 3006410 PlayStation DualSense Wireless Controller Midnight Black for PlayStation 5</span> </a>,\n",
       " <a class=\"a-link-normal s-underline-text s-underline-link-text s-link-style a-text-normal\" href=\"/PlayStation-Pulse-Elite-Wireless-Headset-5/dp/B0CMDH9M5W/ref=sr_1_16?crid=OVG8FV2GQ45S&amp;dib=eyJ2IjoiMSJ9.8d7qTXJ3Plr94uTfOIz-FfoX2_7jUpYhfvNxHBCjGlqPI4zvzHF93R9JM-0w6rCKx0brbai2XQTUj4cKarjSZMyS4xIjv68LhCcMm0h-eSu2bRpoSqpJmDjgg5axfiYFYcBKmTAAJSbVylkZi1TIzNAMbiEHQ8DRZMXbHTKoZPZZSWWJq03G_OwvE0VwclMhL3fIKkxMfEqSPFRSDGYhEjfVCBay8Kw-72mXTTo5jJo.4HiSEt1-9Mu95zMfRfPpHKTXtLdIcsmbs2BmIvYNjuc&amp;dib_tag=se&amp;keywords=playstation+5&amp;qid=1725285712&amp;sprefix=play%2Caps%2C411&amp;sr=8-16\"><span class=\"a-size-medium a-color-base a-text-normal\">PlayStation PULSE Elite Wireless Headset</span> </a>,\n",
       " <a class=\"a-link-normal s-underline-text s-underline-link-text s-link-style a-text-normal\" href=\"/sspa/click?ie=UTF8&amp;spc=MTo2NzUxMTY1NzExOTY1ODIwOjE3MjUyODU3MTI6c3BfbXRmOjMwMDIxNTExODAzMjEwMjo6MDo6&amp;url=%2FSilent-Hill-2-PS5-PlayStation-5%2Fdp%2FB0CMC3C3Z9%2Fref%3Dsr_1_17_sspa%3Fcrid%3DOVG8FV2GQ45S%26dib%3DeyJ2IjoiMSJ9.8d7qTXJ3Plr94uTfOIz-FfoX2_7jUpYhfvNxHBCjGlqPI4zvzHF93R9JM-0w6rCKx0brbai2XQTUj4cKarjSZMyS4xIjv68LhCcMm0h-eSu2bRpoSqpJmDjgg5axfiYFYcBKmTAAJSbVylkZi1TIzNAMbiEHQ8DRZMXbHTKoZPZZSWWJq03G_OwvE0VwclMhL3fIKkxMfEqSPFRSDGYhEjfVCBay8Kw-72mXTTo5jJo.4HiSEt1-9Mu95zMfRfPpHKTXtLdIcsmbs2BmIvYNjuc%26dib_tag%3Dse%26keywords%3Dplaystation%2B5%26qid%3D1725285712%26sprefix%3Dplay%252Caps%252C411%26sr%3D8-17-spons%26sp_csd%3Dd2lkZ2V0TmFtZT1zcF9tdGY%26psc%3D1\"><span class=\"a-size-medium a-color-base a-text-normal\">Silent Hill 2 (PS5)</span> </a>,\n",
       " <a class=\"a-link-normal s-underline-text s-underline-link-text s-link-style a-text-normal\" href=\"/Romancing-SaGa-Revenge-Seven-PlayStation-5/dp/B0D727PQBB/ref=sr_1_18?crid=OVG8FV2GQ45S&amp;dib=eyJ2IjoiMSJ9.8d7qTXJ3Plr94uTfOIz-FfoX2_7jUpYhfvNxHBCjGlqPI4zvzHF93R9JM-0w6rCKx0brbai2XQTUj4cKarjSZMyS4xIjv68LhCcMm0h-eSu2bRpoSqpJmDjgg5axfiYFYcBKmTAAJSbVylkZi1TIzNAMbiEHQ8DRZMXbHTKoZPZZSWWJq03G_OwvE0VwclMhL3fIKkxMfEqSPFRSDGYhEjfVCBay8Kw-72mXTTo5jJo.4HiSEt1-9Mu95zMfRfPpHKTXtLdIcsmbs2BmIvYNjuc&amp;dib_tag=se&amp;keywords=playstation+5&amp;qid=1725285712&amp;sprefix=play%2Caps%2C411&amp;sr=8-18\"><span class=\"a-size-medium a-color-base a-text-normal\">Romancing SaGa 2: Revenge of the Seven (PS5)</span> </a>,\n",
       " <a class=\"a-link-normal s-underline-text s-underline-link-text s-link-style a-text-normal\" href=\"/sspa/click?ie=UTF8&amp;spc=MTo2NzUxMTY1NzExOTY1ODIwOjE3MjUyODU3MTI6c3BfYnRmOjMwMDM4ODgyMDExNjQwMjo6MDo6&amp;url=%2FCooling-Controller-PlayStation-Accessories-Organizer%2Fdp%2FB0C2PJPYQT%2Fref%3Dsr_1_19_sspa%3Fcrid%3DOVG8FV2GQ45S%26dib%3DeyJ2IjoiMSJ9.8d7qTXJ3Plr94uTfOIz-FfoX2_7jUpYhfvNxHBCjGlqPI4zvzHF93R9JM-0w6rCKx0brbai2XQTUj4cKarjSZMyS4xIjv68LhCcMm0h-eSu2bRpoSqpJmDjgg5axfiYFYcBKmTAAJSbVylkZi1TIzNAMbiEHQ8DRZMXbHTKoZPZZSWWJq03G_OwvE0VwclMhL3fIKkxMfEqSPFRSDGYhEjfVCBay8Kw-72mXTTo5jJo.4HiSEt1-9Mu95zMfRfPpHKTXtLdIcsmbs2BmIvYNjuc%26dib_tag%3Dse%26keywords%3Dplaystation%2B5%26qid%3D1725285712%26sprefix%3Dplay%252Caps%252C411%26sr%3D8-19-spons%26sp_csd%3Dd2lkZ2V0TmFtZT1zcF9idGY%26psc%3D1\"><span class=\"a-size-medium a-color-base a-text-normal\">PS5 Slim Stand and Turbo Cooling Station with Dual Controller Charger Station for Playstation 5, PS5 Console Accessories with 3 Levels Cooling Fan 13-Game Organizer Headset Holder for PS5 Digital/Disc</span> </a>,\n",
       " <a class=\"a-link-normal s-underline-text s-underline-link-text s-link-style a-text-normal\" href=\"/sspa/click?ie=UTF8&amp;spc=MTo2NzUxMTY1NzExOTY1ODIwOjE3MjUyODU3MTI6c3BfYnRmOjMwMDE2ODI0NzU4NjcwMjo6MDo6&amp;url=%2FCharging-Playstation-Controller-Compatible-Digitial%2Fdp%2FB0CRZB6SQJ%2Fref%3Dsr_1_20_sspa%3Fcrid%3DOVG8FV2GQ45S%26dib%3DeyJ2IjoiMSJ9.8d7qTXJ3Plr94uTfOIz-FfoX2_7jUpYhfvNxHBCjGlqPI4zvzHF93R9JM-0w6rCKx0brbai2XQTUj4cKarjSZMyS4xIjv68LhCcMm0h-eSu2bRpoSqpJmDjgg5axfiYFYcBKmTAAJSbVylkZi1TIzNAMbiEHQ8DRZMXbHTKoZPZZSWWJq03G_OwvE0VwclMhL3fIKkxMfEqSPFRSDGYhEjfVCBay8Kw-72mXTTo5jJo.4HiSEt1-9Mu95zMfRfPpHKTXtLdIcsmbs2BmIvYNjuc%26dib_tag%3Dse%26keywords%3Dplaystation%2B5%26qid%3D1725285712%26sprefix%3Dplay%252Caps%252C411%26sr%3D8-20-spons%26sp_csd%3Dd2lkZ2V0TmFtZT1zcF9idGY%26psc%3D1\"><span class=\"a-size-medium a-color-base a-text-normal\">PS5/PS5 Slim Cooling Station with RGB Light, PS5 Console Stand PS5 Slim Charging Station with Cooling Fan, PlayStation 5 Controller Charging Dock Compatible with PS5 &amp; PS5 Slim Disc &amp; Digitial</span> </a>,\n",
       " <a class=\"a-link-normal s-underline-text s-underline-link-text s-link-style a-text-normal\" href=\"/sspa/click?ie=UTF8&amp;spc=MTo2NzUxMTY1NzExOTY1ODIwOjE3MjUyODU3MTI6c3BfYnRmOjMwMDE5MzEyOTY3ODUwMjo6MDo6&amp;url=%2FPHNIXGAM-Headphones-Cancelling-Microphone-Backlight%2Fdp%2FB0CXXHC9LG%2Fref%3Dsr_1_21_sspa%3Fcrid%3DOVG8FV2GQ45S%26dib%3DeyJ2IjoiMSJ9.8d7qTXJ3Plr94uTfOIz-FfoX2_7jUpYhfvNxHBCjGlqPI4zvzHF93R9JM-0w6rCKx0brbai2XQTUj4cKarjSZMyS4xIjv68LhCcMm0h-eSu2bRpoSqpJmDjgg5axfiYFYcBKmTAAJSbVylkZi1TIzNAMbiEHQ8DRZMXbHTKoZPZZSWWJq03G_OwvE0VwclMhL3fIKkxMfEqSPFRSDGYhEjfVCBay8Kw-72mXTTo5jJo.4HiSEt1-9Mu95zMfRfPpHKTXtLdIcsmbs2BmIvYNjuc%26dib_tag%3Dse%26keywords%3Dplaystation%2B5%26qid%3D1725285712%26sprefix%3Dplay%252Caps%252C411%26sr%3D8-21-spons%26sp_csd%3Dd2lkZ2V0TmFtZT1zcF9idGY%26psc%3D1\"><span class=\"a-size-medium a-color-base a-text-normal\">Cat Ear Gaming Cute Headset, Wired Over-Ear Headphones with Noise Cancelling Microphone, Surround Sound, LED Backlight for PS4, PS5, Xbox One(No Adapter), PC, Mobile Phone (Light Pink)</span> </a>]"
      ]
     },
     "execution_count": 21,
     "metadata": {},
     "output_type": "execute_result"
    }
   ],
   "source": [
    "links"
   ]
  },
  {
   "cell_type": "code",
   "execution_count": 22,
   "id": "18bb498b-c07f-4271-b156-bf3ee3630f6d",
   "metadata": {},
   "outputs": [
    {
     "data": {
      "text/plain": [
       "<a class=\"a-link-normal s-underline-text s-underline-link-text s-link-style a-text-normal\" href=\"/PlayStation%C2%AE5-console-slim-SPORTS-College-Football/dp/B0D9JLP9N8/ref=sr_1_1?crid=OVG8FV2GQ45S&amp;dib=eyJ2IjoiMSJ9.8d7qTXJ3Plr94uTfOIz-FfoX2_7jUpYhfvNxHBCjGlqPI4zvzHF93R9JM-0w6rCKx0brbai2XQTUj4cKarjSZMyS4xIjv68LhCcMm0h-eSu2bRpoSqpJmDjgg5axfiYFYcBKmTAAJSbVylkZi1TIzNAMbiEHQ8DRZMXbHTKoZPZZSWWJq03G_OwvE0VwclMhL3fIKkxMfEqSPFRSDGYhEjfVCBay8Kw-72mXTTo5jJo.4HiSEt1-9Mu95zMfRfPpHKTXtLdIcsmbs2BmIvYNjuc&amp;dib_tag=se&amp;keywords=playstation+5&amp;qid=1725285712&amp;sprefix=play%2Caps%2C411&amp;sr=8-1\"><span class=\"a-size-medium a-color-base a-text-normal\">PlayStation®5 console (slim) with EA SPORTS College Football 25</span> </a>"
      ]
     },
     "execution_count": 22,
     "metadata": {},
     "output_type": "execute_result"
    }
   ],
   "source": [
    "links[0]"
   ]
  },
  {
   "cell_type": "code",
   "execution_count": 24,
   "id": "9c357512-7a9e-4d85-93f5-023b5364c8b0",
   "metadata": {},
   "outputs": [
    {
     "data": {
      "text/plain": [
       "'/PlayStation%C2%AE5-console-slim-SPORTS-College-Football/dp/B0D9JLP9N8/ref=sr_1_1?crid=OVG8FV2GQ45S&dib=eyJ2IjoiMSJ9.8d7qTXJ3Plr94uTfOIz-FfoX2_7jUpYhfvNxHBCjGlqPI4zvzHF93R9JM-0w6rCKx0brbai2XQTUj4cKarjSZMyS4xIjv68LhCcMm0h-eSu2bRpoSqpJmDjgg5axfiYFYcBKmTAAJSbVylkZi1TIzNAMbiEHQ8DRZMXbHTKoZPZZSWWJq03G_OwvE0VwclMhL3fIKkxMfEqSPFRSDGYhEjfVCBay8Kw-72mXTTo5jJo.4HiSEt1-9Mu95zMfRfPpHKTXtLdIcsmbs2BmIvYNjuc&dib_tag=se&keywords=playstation+5&qid=1725285712&sprefix=play%2Caps%2C411&sr=8-1'"
      ]
     },
     "execution_count": 24,
     "metadata": {},
     "output_type": "execute_result"
    }
   ],
   "source": [
    "link = links[0].get('href')\n",
    "link"
   ]
  },
  {
   "cell_type": "code",
   "execution_count": 25,
   "id": "1d376d2f-e4dd-4b32-8495-91e63cdceacc",
   "metadata": {},
   "outputs": [],
   "source": [
    "product_list = \"https://www.amazon.com\" + link"
   ]
  },
  {
   "cell_type": "code",
   "execution_count": 26,
   "id": "2f013c9b-6d2c-4e4c-8cdb-592f968eeeaf",
   "metadata": {},
   "outputs": [
    {
     "data": {
      "text/plain": [
       "'https://www.amazon.com/PlayStation%C2%AE5-console-slim-SPORTS-College-Football/dp/B0D9JLP9N8/ref=sr_1_1?crid=OVG8FV2GQ45S&dib=eyJ2IjoiMSJ9.8d7qTXJ3Plr94uTfOIz-FfoX2_7jUpYhfvNxHBCjGlqPI4zvzHF93R9JM-0w6rCKx0brbai2XQTUj4cKarjSZMyS4xIjv68LhCcMm0h-eSu2bRpoSqpJmDjgg5axfiYFYcBKmTAAJSbVylkZi1TIzNAMbiEHQ8DRZMXbHTKoZPZZSWWJq03G_OwvE0VwclMhL3fIKkxMfEqSPFRSDGYhEjfVCBay8Kw-72mXTTo5jJo.4HiSEt1-9Mu95zMfRfPpHKTXtLdIcsmbs2BmIvYNjuc&dib_tag=se&keywords=playstation+5&qid=1725285712&sprefix=play%2Caps%2C411&sr=8-1'"
      ]
     },
     "execution_count": 26,
     "metadata": {},
     "output_type": "execute_result"
    }
   ],
   "source": [
    "product_list"
   ]
  },
  {
   "cell_type": "code",
   "execution_count": 27,
   "id": "1dc7724d-dac4-4cb9-afcc-b4b623192885",
   "metadata": {},
   "outputs": [],
   "source": [
    "new_webpage = requests.get(product_list, headers=HEADERS)"
   ]
  },
  {
   "cell_type": "code",
   "execution_count": 28,
   "id": "46dd4342-a660-469c-865e-8da1fa376dd6",
   "metadata": {},
   "outputs": [
    {
     "data": {
      "text/plain": [
       "<Response [200]>"
      ]
     },
     "execution_count": 28,
     "metadata": {},
     "output_type": "execute_result"
    }
   ],
   "source": [
    "new_webpage"
   ]
  },
  {
   "cell_type": "code",
   "execution_count": 37,
   "id": "2c829f36-6826-49e0-8e52-f1902bb7281c",
   "metadata": {},
   "outputs": [],
   "source": [
    "new_soup = BeautifulSoup(new_webpage.content, \"html.parser\")"
   ]
  },
  {
   "cell_type": "code",
   "execution_count": 39,
   "id": "4d8016b1-ac08-4032-aa81-f856b4462857",
   "metadata": {},
   "outputs": [],
   "source": [
    "# new_soup"
   ]
  },
  {
   "cell_type": "code",
   "execution_count": 54,
   "id": "058bfc62-b3e4-440d-9e3b-037de098d3e8",
   "metadata": {},
   "outputs": [],
   "source": [
    "new_soup.find(\"span\", attrs={'class':'a-size-medium a-color-base a-text-normal'})"
   ]
  },
  {
   "cell_type": "code",
   "execution_count": 55,
   "id": "e20572cb-d014-4aec-b6a1-455ea12e0dd1",
   "metadata": {},
   "outputs": [
    {
     "data": {
      "text/plain": [
       "'PlayStation®5 console (slim) with EA SPORTS College Football 25'"
      ]
     },
     "execution_count": 55,
     "metadata": {},
     "output_type": "execute_result"
    }
   ],
   "source": [
    "soup.find_all(\"span\", attrs={'class':'a-size-medium a-color-base a-text-normal'})[0].text"
   ]
  },
  {
   "cell_type": "code",
   "execution_count": 57,
   "id": "15920d24-508c-4f7b-8a23-d20179443718",
   "metadata": {},
   "outputs": [
    {
     "data": {
      "text/plain": [
       "'$567.46'"
      ]
     },
     "execution_count": 57,
     "metadata": {},
     "output_type": "execute_result"
    }
   ],
   "source": [
    "soup.find_all(\"span\", attrs={'class':'a-offscreen'})[0].text"
   ]
  },
  {
   "cell_type": "code",
   "execution_count": 58,
   "id": "5f5f1bf9-c126-458f-9add-d30b583bb522",
   "metadata": {},
   "outputs": [
    {
     "data": {
      "text/plain": [
       "'5.0 out of 5 stars'"
      ]
     },
     "execution_count": 58,
     "metadata": {},
     "output_type": "execute_result"
    }
   ],
   "source": [
    "soup.find_all(\"span\", attrs={'class':'a-icon-alt'})[0].text"
   ]
  },
  {
   "cell_type": "code",
   "execution_count": null,
   "id": "0ec03741-34c4-4155-98e3-b7e63ac1bd85",
   "metadata": {},
   "outputs": [],
   "source": []
  }
 ],
 "metadata": {
  "kernelspec": {
   "display_name": "Python 3 (ipykernel)",
   "language": "python",
   "name": "python3"
  },
  "language_info": {
   "codemirror_mode": {
    "name": "ipython",
    "version": 3
   },
   "file_extension": ".py",
   "mimetype": "text/x-python",
   "name": "python",
   "nbconvert_exporter": "python",
   "pygments_lexer": "ipython3",
   "version": "3.10.11"
  }
 },
 "nbformat": 4,
 "nbformat_minor": 5
}
